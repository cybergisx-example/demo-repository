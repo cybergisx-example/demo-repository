{
 "cells": [
  {
   "cell_type": "markdown",
   "id": "b402ed88",
   "metadata": {},
   "source": [
    "# CyberGISX Example Notebook"
   ]
  },
  {
   "cell_type": "markdown",
   "id": "df0a90d9",
   "metadata": {},
   "source": [
    "### Let's first go over some basic Python syntax."
   ]
  },
  {
   "cell_type": "markdown",
   "id": "b93a7088",
   "metadata": {},
   "source": [
    "To create a new cell in your notebook, select Insert->Insert Cell Below. You can choose whether you would like a code cell or a markdown (text) cell by selecting from the Cell->Cell Type menu.\n",
    "\n",
    "A code cell executes some action when run. To add a description to a code cell, you must use Python's comment syntax:"
   ]
  },
  {
   "cell_type": "code",
   "execution_count": 7,
   "id": "f53fa623",
   "metadata": {},
   "outputs": [],
   "source": [
    "# I can add a comment to my code by inserting a '#' before the comment I would like to write.\n",
    "# Comments are ignored when your code is running. "
   ]
  },
  {
   "cell_type": "markdown",
   "id": "b5cfdde6",
   "metadata": {},
   "source": [
    "In Python, you can store a value in a variable. Variables hold the value you give them so you can use that value later."
   ]
  },
  {
   "cell_type": "code",
   "execution_count": 9,
   "id": "6e170d54",
   "metadata": {},
   "outputs": [],
   "source": [
    "# First I will store a number in the variable 'x'. After running this cell, you can call the variable 'x' later \n",
    "# in your code and it will always have the value 3 unless a new value is stored in it.\n",
    "x = 3\n",
    "\n",
    "# I can also store text in a variable. Below, I will store the word \"hello\" in a variable called \"word\"\n",
    "word = \"hello\"\n",
    "\n",
    "# There are many types of variables. "
   ]
  },
  {
   "cell_type": "code",
   "execution_count": 1,
   "id": "6822772f",
   "metadata": {},
   "outputs": [
    {
     "data": {
      "text/plain": [
       "9"
      ]
     },
     "execution_count": 1,
     "metadata": {},
     "output_type": "execute_result"
    }
   ],
   "source": [
    "# variable addition\n",
    "x = 4\n",
    "y = 5\n",
    "x + y"
   ]
  },
  {
   "cell_type": "code",
   "execution_count": 3,
   "id": "5f8dc14d",
   "metadata": {},
   "outputs": [
    {
     "data": {
      "text/plain": [
       "9"
      ]
     },
     "execution_count": 3,
     "metadata": {},
     "output_type": "execute_result"
    }
   ],
   "source": [
    "# variable subtraction\n",
    "x = 10\n",
    "y = 1\n",
    "x - y"
   ]
  },
  {
   "cell_type": "code",
   "execution_count": 4,
   "id": "9722ae85",
   "metadata": {},
   "outputs": [
    {
     "data": {
      "text/plain": [
       "8"
      ]
     },
     "execution_count": 4,
     "metadata": {},
     "output_type": "execute_result"
    }
   ],
   "source": [
    "# variable multiplication\n",
    "x = 4\n",
    "y = 2\n",
    "x * y"
   ]
  },
  {
   "cell_type": "code",
   "execution_count": 5,
   "id": "e32d4b80",
   "metadata": {},
   "outputs": [
    {
     "data": {
      "text/plain": [
       "4.0"
      ]
     },
     "execution_count": 5,
     "metadata": {},
     "output_type": "execute_result"
    }
   ],
   "source": [
    "# variable division\n",
    "x = 20\n",
    "y = 5\n",
    "x / y"
   ]
  },
  {
   "cell_type": "code",
   "execution_count": 6,
   "id": "5c25d051",
   "metadata": {},
   "outputs": [
    {
     "data": {
      "text/plain": [
       "70"
      ]
     },
     "execution_count": 6,
     "metadata": {},
     "output_type": "execute_result"
    }
   ],
   "source": [
    "# compounding operations\n",
    "x = 20\n",
    "y = 5\n",
    "z = 15\n",
    "x + y * (z - y)"
   ]
  },
  {
   "cell_type": "code",
   "execution_count": 2,
   "id": "ec52f590",
   "metadata": {},
   "outputs": [
    {
     "name": "stdout",
     "output_type": "stream",
     "text": [
      "H\n",
      "e\n",
      "l\n",
      "l\n",
      "o\n",
      " \n",
      "W\n",
      "o\n",
      "r\n",
      "l\n",
      "d\n"
     ]
    }
   ],
   "source": [
    "# using loops\n",
    "word = \"Hello World\"\n",
    "for character in word:\n",
    "    print(character) # prints each character on a new line"
   ]
  }
 ],
 "metadata": {
  "kernelspec": {
   "display_name": "Python 3",
   "language": "python",
   "name": "python3"
  },
  "language_info": {
   "codemirror_mode": {
    "name": "ipython",
    "version": 3
   },
   "file_extension": ".py",
   "mimetype": "text/x-python",
   "name": "python",
   "nbconvert_exporter": "python",
   "pygments_lexer": "ipython3",
   "version": "3.8.5"
  }
 },
 "nbformat": 4,
 "nbformat_minor": 5
}
